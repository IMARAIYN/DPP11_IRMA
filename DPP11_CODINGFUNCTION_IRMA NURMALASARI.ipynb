{
 "cells": [
  {
   "cell_type": "code",
   "execution_count": 22,
   "id": "21c06fbf",
   "metadata": {},
   "outputs": [
    {
     "name": "stdout",
     "output_type": "stream",
     "text": [
      "Welcome in Python\n"
     ]
    }
   ],
   "source": [
    "'''def function_name():\n",
    "    Logic Program\n",
    "Cara memanggil fungsi dengan menuliskan function_name diikuti kurung buka tutup ()\n",
    "beserta parameter jika ada\n",
    "function_name()\n",
    "Buatlah fungsi dengan nama \"helloPython\" yang berfungsi untuk mencetak \"Welcome in\n",
    "Python Language\"'''\n",
    "\n",
    "def helloPython():\n",
    "        print(\"Welcome in Python\")\n",
    "helloPython()"
   ]
  },
  {
   "cell_type": "code",
   "execution_count": 23,
   "id": "91753de4",
   "metadata": {},
   "outputs": [
    {
     "name": "stdout",
     "output_type": "stream",
     "text": [
      "Irma Nurmalasari\n"
     ]
    }
   ],
   "source": [
    "'''Sebuah fungsi dapat menerima parameter ataupun argumen yang merupakan suatu\n",
    "nilai/variabel yang dilemparkan ke dalam fungsi untuk diproses lebih lanjut.\n",
    "def function_name(param):\n",
    "    Logic Program\n",
    "Cara memanggil fungsi dengan menuliskan function_name diikuti kurung buka tutup ()\n",
    "beserta parameter\n",
    "function_name(param)\n",
    "Buatlah fungsi dengan nama \"fullName\" yang mempunyai parameter \"firstname\" dan\n",
    "\"lastname\" digunakan untuk mencetak \"firstname\" dan \"lastname\"'''\n",
    "\n",
    "\n",
    "def fullName(firstname,lastname):\n",
    "    print(firstname,lastname)\n",
    "fullName(\"Irma\",\"Nurmalasari\")"
   ]
  },
  {
   "cell_type": "code",
   "execution_count": 29,
   "id": "7fd477c9",
   "metadata": {},
   "outputs": [
    {
     "name": "stdout",
     "output_type": "stream",
     "text": [
      "Input Val 1 =0\n",
      "Input Val 2 = 1\n",
      "Input Val 3 = 2\n",
      "2\n"
     ]
    }
   ],
   "source": [
    "'''Parameter fungsi diperbolehkan menggunakan lebih dari 1, dimana paramater tersebut\n",
    "ada yang wajib harus diisi dan ada yang tidak harus diisi\n",
    "def function_name(param_1, param_2, param_3,....):\n",
    "Logic Program\n",
    "Cara memanggil fungsi dengan menuliskan function_name diikuti kurung buka tutup ()\n",
    "beserta parameter\n",
    "function_name(param_1, param_2, param_3)\n",
    "Buatlah fungsi dengan nama maxValue yang mempunyai parameter \"val_1\",\"val_2\" dan\n",
    "\"val_3\" yang bertujuan untuk mencari nilai terbesar dari 3 nilai tersebut'''\n",
    "\n",
    "def maxValue(val_1,val_2,val_3):\n",
    "    a = max(val_1,val_2,val_3)\n",
    "    print(a)\n",
    "\n",
    "input_Val1,input_Val2,input_Val3 = int(input(\"Input Val 1 =\")),int(input(\"Input Val 2 = \")),int(input(\"Input Val 3 = \"))\n",
    "maxValue(input_Val1,input_Val2,input_Val3)"
   ]
  },
  {
   "cell_type": "code",
   "execution_count": 30,
   "id": "9916b25b",
   "metadata": {},
   "outputs": [
    {
     "name": "stdout",
     "output_type": "stream",
     "text": [
      "masukan ruas lingkaranya = 10\n",
      "314.0\n"
     ]
    }
   ],
   "source": [
    "'''Parameter opsional digunakan pada fungsi dengan cara memberikan nilai default, artinya\n",
    "nilai parameter sudah diberikan terlebih dahulu tanpa dipanggil\n",
    "def function_name(param_1, param_2, param_3 = 'Nilai'):\n",
    "Logic Program\n",
    "Buatlah fungsi \"countCircleArea\" dengan 2 parameter yaitu \"phi\" dan \"diameter\" dimana\n",
    "parameter phi mempunyai nilai default 3.14'''\n",
    "def countCircleArea(ruas,phi = 3.14):\n",
    "    \"\"\" luas lingkaran\"\"\"\n",
    "    luas = phi*ruas*ruas\n",
    "    print(luas)\n",
    "    \n",
    "ruasnya = float(input('masukan ruas lingkaranya = '))\n",
    "\n",
    "countCircleArea(ruasnya)"
   ]
  },
  {
   "cell_type": "code",
   "execution_count": 16,
   "id": "f7498635",
   "metadata": {},
   "outputs": [
    {
     "name": "stdout",
     "output_type": "stream",
     "text": [
      "Suhu sekarang di Sukabumi : 27 Celcius \n"
     ]
    }
   ],
   "source": [
    "'''Fungsi dengan 2 Parameter opsional juga dapat dilakukan pada Python.\n",
    "def info(suhu, daerah='Sukabumi', satuan = 'Celcius'):\n",
    "print(f\"Suhu sekarang di {daerah} : {suhu} {satuan} \")\n",
    "Adapun Cara memanggilnya\n",
    "info(30)'''\n",
    "\n",
    "#Cobalah fungsi tersebut pada area kode disini\n",
    "def info(suhu, daerah='Sukabumi', satuan = 'Celcius'):\n",
    "    print(f\"Suhu sekarang di {daerah} : {suhu} {satuan} \")\n",
    "info(27)"
   ]
  },
  {
   "cell_type": "code",
   "execution_count": 18,
   "id": "c3643c7f",
   "metadata": {},
   "outputs": [
    {
     "data": {
      "text/plain": [
       "540"
      ]
     },
     "execution_count": 18,
     "metadata": {},
     "output_type": "execute_result"
    }
   ],
   "source": [
    "'''Yaitu fungsi dimana akhir dari programnya adalah nilai kembalian atau nilai balik. Artinya\n",
    "nilai dalam fungsi dapat ditampung lagi ke variabel lain untuk digunakan operasi lebih\n",
    "lanjut.\n",
    "Buatlah fungsi dengan return value yang digunakan untuk mengecek sebuah bilangan\n",
    "termasuk bilangan negatif, bilangan neteral(0) dan bilangan positif\n",
    "def FungsiReturn(val):\n",
    "if val == 0:\n",
    "return \"netral\"\n",
    "elif val > 0:\n",
    "return \"poisitif\"\n",
    "else:\n",
    "return \"negatif\"\n",
    "valinput = float(input('input the value ='))\n",
    "print(FungsiReturn(valinput))'''\n",
    "#NEGATIF\n",
    "#SOAL 1\n",
    "def TotalNilaiList(listnya):\n",
    "    jumlah = sum(listnya)\n",
    "    return jumlah\n",
    "yahalist = [20,30,40,50,60,70,80,90,100]\n",
    "TotalNilaiList(yahalist)"
   ]
  },
  {
   "cell_type": "code",
   "execution_count": 19,
   "id": "1578707e",
   "metadata": {},
   "outputs": [
    {
     "data": {
      "text/plain": [
       "100"
      ]
     },
     "execution_count": 19,
     "metadata": {},
     "output_type": "execute_result"
    }
   ],
   "source": [
    "#SOAL 2\n",
    "def TotalNilaiList(listnya):\n",
    "    maxval = max(listnya)\n",
    "    return maxval\n",
    "yahalist = [20,30,40,50,60,70,80,90,100]\n",
    "TotalNilaiList(yahalist)"
   ]
  },
  {
   "cell_type": "code",
   "execution_count": 20,
   "id": "9d41367b",
   "metadata": {},
   "outputs": [
    {
     "data": {
      "text/plain": [
       "2090"
      ]
     },
     "execution_count": 20,
     "metadata": {},
     "output_type": "execute_result"
    }
   ],
   "source": [
    "#SOAL 3\n",
    "def TotalNilaiList(list1,list2):\n",
    "    jumlah = sum(list1) + sum(list2)\n",
    "    return jumlah\n",
    "yahalist = [20,30,40,50,60,70,80,90,100]\n",
    "yahalist2 = [110,120,130,140,150,160,170,180,190,200]\n",
    "TotalNilaiList(yahalist,yahalist2)"
   ]
  }
 ],
 "metadata": {
  "kernelspec": {
   "display_name": "Python 3 (ipykernel)",
   "language": "python",
   "name": "python3"
  },
  "language_info": {
   "codemirror_mode": {
    "name": "ipython",
    "version": 3
   },
   "file_extension": ".py",
   "mimetype": "text/x-python",
   "name": "python",
   "nbconvert_exporter": "python",
   "pygments_lexer": "ipython3",
   "version": "3.9.12"
  }
 },
 "nbformat": 4,
 "nbformat_minor": 5
}
